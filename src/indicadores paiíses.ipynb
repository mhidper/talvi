{
 "cells": [
  {
   "cell_type": "markdown",
   "id": "105ecb59",
   "metadata": {},
   "source": [
    "PI de europa: bdsice\n",
    "PI de EEUU fred\n",
    "PI de UK https://www.ons.gov.uk/economy/economicoutputandproductivity/output/timeseries/k22a/diop\n",
    "\n",
    "bono 10 años USA diario https://fred.stlouisfed.org/series/DGS10\n",
    "\n",
    "BAMLH0A0HYM2ICE BofA US High Yield Index Option-Adjusted Spread (BAMLH0A0HYM2)\n",
    "\n",
    "en FRED GDP\n",
    "Argentina NGDPRSAXDCARQ desde 2004\n",
    "Brasil NGDPRSAXDCBRQ desde 1996\n",
    "Mexico NGDPRSAXDCMXQ desde 1993\n",
    "Chile en https://www.bcentral.cl/es/areas/estadisticas/cuentas-nacionales-trimestrales (buscar otro, pero en principio la serie está desde 1997)\n",
    "Colombia en https://www.dane.gov.co/index.php/estadisticas-por-tema/cuentas-nacionales/cuentas-nacionales-trimestrales/pib-informacion-tecnica pero desde 2005\n",
    "Perú https://estadisticas.bcrp.gob.pe/estadisticas/series/trimestrales/resultados/PN02526AQ/html, en tasas interanuales por trimestres desde 1980\n",
    "\n",
    "\n"
   ]
  }
 ],
 "metadata": {
  "kernelspec": {
   "display_name": "tftimeseriesII",
   "language": "python",
   "name": "python3"
  },
  "language_info": {
   "codemirror_mode": {
    "name": "ipython",
    "version": 3
   },
   "file_extension": ".py",
   "mimetype": "text/x-python",
   "name": "python",
   "nbconvert_exporter": "python",
   "pygments_lexer": "ipython3",
   "version": "3.9.7"
  }
 },
 "nbformat": 4,
 "nbformat_minor": 5
}
