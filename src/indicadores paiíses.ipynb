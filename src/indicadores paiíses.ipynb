{
 "cells": [
  {
   "cell_type": "markdown",
   "id": "105ecb59",
   "metadata": {},
   "source": [
    "PI de europa: bdsice (de momento descarga de ficheros. Hay que automatizar)\n",
    "\n",
    "PI de EEUU fred\n",
    "PI de UK https://www.ons.gov.uk/economy/economicoutputandproductivity/output/timeseries/k22a/diop\n",
    "\n",
    "bono 10 años USA diario https://fred.stlouisfed.org/series/DGS10\n",
    "\n",
    "BAMLH0A0HYM2ICE BofA US High Yield Index Option-Adjusted Spread (BAMLH0A0HYM2)\n",
    "\n",
    "en FRED GDP\n",
    "Argentina NGDPRSAXDCARQ desde 2004\n",
    "Brasil NGDPRSAXDCBRQ desde 1996\n",
    "Mexico NGDPRSAXDCMXQ desde 1993\n",
    "Chile en https://www.bcentral.cl/es/areas/estadisticas/cuentas-nacionales-trimestrales (buscar otro, pero en principio la serie está desde 1997)\n",
    "Colombia en https://www.dane.gov.co/index.php/estadisticas-por-tema/cuentas-nacionales/cuentas-nacionales-trimestrales/pib-informacion-tecnica pero desde 2005\n",
    "Perú https://estadisticas.bcrp.gob.pe/estadisticas/series/trimestrales/resultados/PN02526AQ/html, en tasas interanuales por trimestres desde 1980\n",
    "\n",
    "\n"
   ]
  },
  {
   "cell_type": "markdown",
   "id": "390ff792",
   "metadata": {},
   "source": [
    "Importación PInd"
   ]
  },
  {
   "cell_type": "code",
   "execution_count": 44,
   "id": "dcf71467",
   "metadata": {},
   "outputs": [
    {
     "name": "stdout",
     "output_type": "stream",
     "text": [
      "DataFrame combinado: (304, 5)\n",
      "Período: 200001 - 202504\n",
      "Columnas: ['PI_USA', 'PI_FRA', 'PI_GER', 'PI_ITA', 'PI_UK']\n"
     ]
    }
   ],
   "source": [
    "import pandas as pd\n",
    "import numpy as np\n",
    "import re\n",
    "\n",
    "# Tu código de carga y limpieza se mantiene igual...\n",
    "pi_eu = pd.read_csv('../data/indicadores/IPI_UE.txt', sep =\";\", encoding='latin1')\n",
    "pi_eu = pi_eu.drop(pi_eu.index[0])\n",
    "pi_eu = pi_eu.set_index(pi_eu.columns[0])\n",
    "pi_eu.index = pd.to_datetime(pi_eu.index, format='%Y%m')\n",
    "pi_eu.index.name = 'fecha'\n",
    "pi_eu = pi_eu.loc[:, ~pi_eu.columns.str.startswith('Unnamed')]\n",
    "pi_eu = pi_eu.apply(pd.to_numeric, errors='coerce')\n",
    "\n",
    "pi_usa = pd.read_csv('../data/indicadores/PI_USA_fred.csv', sep =\",\", encoding='latin1')\n",
    "pi_usa = pi_usa.set_index(pi_usa.columns[0])\n",
    "pi_usa.index = pd.to_datetime(pi_usa.index).strftime('%Y%m')  # String YYYYMM\n",
    "\n",
    "pi_uk = pd.read_excel('../data/indicadores/PI_UK_SO.xlsx')\n",
    "patron = r'^\\d{4} [A-Za-z]{3}$'\n",
    "pi_uk = pi_uk[pi_uk['Title'].str.match(patron, na=False)]\n",
    "pi_uk = pi_uk.set_index('Title')\n",
    "pi_uk.index = pi_uk.index.str.title()\n",
    "\n",
    "def fecha_a_yyyymm(fecha_str):\n",
    "    meses = {\n",
    "        'Jan': '01', 'Feb': '02', 'Mar': '03', 'Apr': '04',\n",
    "        'May': '05', 'Jun': '06', 'Jul': '07', 'Aug': '08',\n",
    "        'Sep': '09', 'Oct': '10', 'Nov': '11', 'Dec': '12'\n",
    "    }\n",
    "    partes = fecha_str.split()\n",
    "    if len(partes) == 2:\n",
    "        año = partes[0]\n",
    "        mes = partes[1]\n",
    "        if mes in meses:\n",
    "            return año + meses[mes]\n",
    "    return None\n",
    "\n",
    "pi_uk.index = [fecha_a_yyyymm(idx) for idx in pi_uk.index]\n",
    "pi_uk.index.name = 'fecha'\n",
    "\n",
    "# Después de renombrar las columnas de pi_uk\n",
    "pi_uk = pi_uk.rename(columns={pi_uk.columns[0]: 'PI_UK'})\n",
    "\n",
    "# Convertir la columna PI_UK a float64\n",
    "pi_uk['PI_UK'] = pd.to_numeric(pi_uk['PI_UK'], errors='coerce').astype('float64')\n",
    "\n",
    "# ESTANDARIZAR TODOS LOS ÍNDICES A STRING YYYYMM ANTES DEL MERGE\n",
    "pi_eu.index = pi_eu.index.strftime('%Y%m')  # Convertir datetime a string YYYYMM\n",
    "# pi_usa ya está en formato string YYYYMM\n",
    "# pi_uk ya está en formato string YYYYMM\n",
    "\n",
    "# Renombrar las columnas\n",
    "pi_usa = pi_usa.rename(columns={pi_usa.columns[0]: 'PI_USA'})\n",
    "pi_eu = pi_eu.rename(columns={\n",
    "    pi_eu.columns[0]: 'PI_FRA',\n",
    "    pi_eu.columns[1]: 'PI_GER', \n",
    "    pi_eu.columns[2]: 'PI_ITA'\n",
    "})\n",
    "pi_uk = pi_uk.rename(columns={pi_uk.columns[0]: 'PI_UK'})\n",
    "\n",
    "# Unir todos los dataframes usando el índice (fechas)\n",
    "df_combined = pi_usa.join([pi_eu, pi_uk], how='outer')\n",
    "\n",
    "# Filtrar datos desde enero de 2000 usando string\n",
    "df_combined = df_combined[df_combined.index >= '200001']\n",
    "\n",
    "# Ordenar por fecha\n",
    "df_combined = df_combined.sort_index()\n",
    "\n",
    "# Renombrar el índice\n",
    "df_combined.index.name = 'fecha'\n",
    "\n",
    "print(f\"DataFrame combinado: {df_combined.shape}\")\n",
    "print(f\"Período: {df_combined.index.min()} - {df_combined.index.max()}\")\n",
    "print(f\"Columnas: {df_combined.columns.tolist()}\")"
   ]
  },
  {
   "cell_type": "markdown",
   "id": "6212d068",
   "metadata": {},
   "source": [
    "Bono 10 años\n"
   ]
  },
  {
   "cell_type": "code",
   "execution_count": 45,
   "id": "03a83972",
   "metadata": {},
   "outputs": [],
   "source": [
    "\n",
    "dgs10 = pd.read_csv('../data/indicadores/DGS10.csv', sep =\",\", encoding='latin1')\n",
    "dgs10 = dgs10.set_index(dgs10.columns[0])\n",
    "dgs10.index = pd.to_datetime(dgs10.index).strftime('%Y%m')  # String YYYYMM\n",
    "\n",
    "# Calcular la media mensual ignorando valores NaN\n",
    "dgs10_monthly = dgs10.groupby(dgs10.index).mean()\n",
    "\n",
    "# Renombrar la columna si es necesario\n",
    "dgs10_monthly = dgs10_monthly.rename(columns={dgs10_monthly.columns[0]: 'DGS10'})\n",
    "\n",
    "df_combined = df_combined.join(dgs10_monthly, how='left')\n",
    "\n"
   ]
  },
  {
   "cell_type": "markdown",
   "id": "4209d756",
   "metadata": {},
   "source": [
    "BofA US High Yield Index Option-Adjusted Spread (BAMLH0A0HYM2)"
   ]
  },
  {
   "cell_type": "code",
   "execution_count": 46,
   "id": "28a8896a",
   "metadata": {},
   "outputs": [],
   "source": [
    "spreadusa = pd.read_csv('../data/indicadores/BAMLH0A0HYM2.csv', sep =\",\", encoding='latin1')\n",
    "spreadusa = spreadusa.set_index(spreadusa.columns[0])\n",
    "spreadusa.index = pd.to_datetime(spreadusa.index).strftime('%Y%m')  # String YYYYMM\n",
    "\n",
    "spreadusa = spreadusa.rename(columns={spreadusa.columns[0]: 'SPREAD_USA'})\n",
    "spreadusa['SPREAD_USA'] = spreadusa['SPREAD_USA'].interpolate(method='linear')\n",
    "\n",
    "spreadusa_monthly = spreadusa.groupby(spreadusa.index).mean()\n",
    "\n",
    "df_combined = df_combined.join(spreadusa_monthly, how='left')"
   ]
  },
  {
   "cell_type": "code",
   "execution_count": 48,
   "id": "acd39489",
   "metadata": {},
   "outputs": [],
   "source": [
    "df_combined.to_csv('../data/indicadores/indicadores_macroeconomicos.csv', sep=';', encoding='latin1')"
   ]
  }
 ],
 "metadata": {
  "kernelspec": {
   "display_name": "Python 3",
   "language": "python",
   "name": "python3"
  },
  "language_info": {
   "codemirror_mode": {
    "name": "ipython",
    "version": 3
   },
   "file_extension": ".py",
   "mimetype": "text/x-python",
   "name": "python",
   "nbconvert_exporter": "python",
   "pygments_lexer": "ipython3",
   "version": "3.9.7"
  }
 },
 "nbformat": 4,
 "nbformat_minor": 5
}
