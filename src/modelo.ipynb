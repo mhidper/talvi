{
 "cells": [
  {
   "cell_type": "code",
   "execution_count": 15,
   "id": "7f887a59",
   "metadata": {},
   "outputs": [],
   "source": [
    "import pandas as pd\n",
    "\n",
    "# DataFrame indicadores\n",
    "df_indicadores = pd.read_csv('../data/indicadores/indicadores_macroeconomicos.csv',\n",
    "                             sep=';', encoding='latin1')\n",
    "df_indicadores = df_indicadores.set_index('fecha')\n",
    "# CONVERTIR EL ÍNDICE A STRING\n",
    "df_indicadores.index = df_indicadores.index.astype(str)\n",
    "df_indicadores.index.name = 'fecha'\n",
    "\n",
    "# DataFrame termotrade  \n",
    "df_termotrade = pd.read_csv('../data/indicadores/monthly_results_brazil.csv', \n",
    "                            sep=\";\", encoding='latin1')\n",
    "df_termotrade = df_termotrade[['date', 'ctot_level']]\n",
    "df_termotrade = df_termotrade.rename(columns={'ctot_level': 'termoftrade'})\n",
    "df_termotrade = df_termotrade.set_index('date')\n",
    "df_termotrade.index = pd.to_datetime(df_termotrade.index).strftime('%Y%m')\n",
    "df_termotrade.index.name = 'fecha'\n",
    "\n",
    "\n",
    "# Hacer el merge de los dos DataFrames\n",
    "df_combined = df_indicadores.join(df_termotrade, how='outer')\n",
    "\n",
    "\n"
   ]
  },
  {
   "cell_type": "code",
   "execution_count": 17,
   "id": "2085fba9",
   "metadata": {},
   "outputs": [
    {
     "name": "stdout",
     "output_type": "stream",
     "text": [
      "<class 'pandas.core.frame.DataFrame'>\n",
      "Index: 304 entries, 200001 to 202504\n",
      "Data columns (total 8 columns):\n",
      " #   Column       Non-Null Count  Dtype  \n",
      "---  ------       --------------  -----  \n",
      " 0   PI_USA       304 non-null    float64\n",
      " 1   PI_FRA       303 non-null    float64\n",
      " 2   PI_GER       303 non-null    float64\n",
      " 3   PI_ITA       303 non-null    float64\n",
      " 4   PI_UK        303 non-null    float64\n",
      " 5   DGS10        304 non-null    float64\n",
      " 6   SPREAD_USA   304 non-null    float64\n",
      " 7   termoftrade  303 non-null    float64\n",
      "dtypes: float64(8)\n",
      "memory usage: 29.5+ KB\n"
     ]
    }
   ],
   "source": [
    "df_combined.info()"
   ]
  },
  {
   "cell_type": "markdown",
   "id": "088a2eaa",
   "metadata": {},
   "source": [
    "BRAZIL GDP"
   ]
  },
  {
   "cell_type": "code",
   "execution_count": 16,
   "id": "9221ef74",
   "metadata": {},
   "outputs": [],
   "source": [
    "gdp_brazil = pd.read_csv('../data/QGDP/brazil.csv', sep =\",\", encoding='latin1')\n",
    "gdp_brazil = gdp_brazil.set_index(gdp_brazil.columns[0])\n",
    "gdp_brazil.index = pd.to_datetime(gdp_brazil.index).strftime('%Y%m')  # String YYYYMM\n",
    "\n",
    "gdp_brazil = gdp_brazil.rename(columns={gdp_brazil.columns[0]: 'GDP_BRAZIL'})"
   ]
  },
  {
   "cell_type": "code",
   "execution_count": 18,
   "id": "8a07c12a",
   "metadata": {},
   "outputs": [
    {
     "name": "stdout",
     "output_type": "stream",
     "text": [
      "<class 'pandas.core.frame.DataFrame'>\n",
      "Index: 116 entries, 199601 to 202410\n",
      "Data columns (total 1 columns):\n",
      " #   Column      Non-Null Count  Dtype  \n",
      "---  ------      --------------  -----  \n",
      " 0   GDP_BRAZIL  116 non-null    float64\n",
      "dtypes: float64(1)\n",
      "memory usage: 5.9+ KB\n"
     ]
    }
   ],
   "source": [
    "gdp_brazil.info()"
   ]
  },
  {
   "cell_type": "code",
   "execution_count": null,
   "id": "e072336a",
   "metadata": {},
   "outputs": [],
   "source": []
  }
 ],
 "metadata": {
  "kernelspec": {
   "display_name": "tftimeseriesII",
   "language": "python",
   "name": "python3"
  },
  "language_info": {
   "codemirror_mode": {
    "name": "ipython",
    "version": 3
   },
   "file_extension": ".py",
   "mimetype": "text/x-python",
   "name": "python",
   "nbconvert_exporter": "python",
   "pygments_lexer": "ipython3",
   "version": "3.9.7"
  }
 },
 "nbformat": 4,
 "nbformat_minor": 5
}
